{
 "cells": [
  {
   "cell_type": "code",
   "execution_count": 1,
   "id": "6e85a013",
   "metadata": {},
   "outputs": [],
   "source": [
    "import torch\n",
    "import torch.nn as nn"
   ]
  },
  {
   "cell_type": "code",
   "execution_count": 4,
   "id": "0933319c",
   "metadata": {},
   "outputs": [
    {
     "data": {
      "text/plain": [
       "torch.Size([64, 1, 100, 128])"
      ]
     },
     "execution_count": 4,
     "metadata": {},
     "output_type": "execute_result"
    }
   ],
   "source": [
    "x = torch.rand(64,1,400,128)\n",
    "y = x[:,:,::4,:]\n",
    "y.shape"
   ]
  },
  {
   "cell_type": "code",
   "execution_count": 5,
   "id": "bf2e136c",
   "metadata": {},
   "outputs": [
    {
     "data": {
      "text/plain": [
       "torch.Size([64, 1, 500, 128])"
      ]
     },
     "execution_count": 5,
     "metadata": {},
     "output_type": "execute_result"
    }
   ],
   "source": [
    "z = torch.rand(64,1,100,128)\n",
    "\n",
    "torch.cat((x,z),dim=-2).shape"
   ]
  },
  {
   "cell_type": "code",
   "execution_count": 34,
   "id": "783ab124",
   "metadata": {},
   "outputs": [],
   "source": [
    "x = torch.rand(64,2048,25,4)\n",
    "y = torch.rand(64, 256, 100, 4)\n",
    "m1 = nn.AvgPool2d(x.size()[2:])\n",
    "m2 = nn.AvgPool2d(y.size()[2:])\n",
    "m = nn.AdaptiveAvgPool2d((1, 1))\n",
    "out1 = m(x)\n",
    "out2 = m(y)"
   ]
  },
  {
   "cell_type": "code",
   "execution_count": 35,
   "id": "0b94611b",
   "metadata": {},
   "outputs": [],
   "source": [
    "pool_out = [out1, out2]\n",
    "out = torch.cat(pool_out, 1)"
   ]
  },
  {
   "cell_type": "code",
   "execution_count": 36,
   "id": "5ea47a2e",
   "metadata": {},
   "outputs": [
    {
     "data": {
      "text/plain": [
       "torch.Size([64, 1, 1, 2304])"
      ]
     },
     "execution_count": 36,
     "metadata": {},
     "output_type": "execute_result"
    }
   ],
   "source": [
    "out = out.permute((0, 2, 3, 1))\n",
    "out.shape"
   ]
  },
  {
   "cell_type": "code",
   "execution_count": 27,
   "id": "4e7644d5",
   "metadata": {},
   "outputs": [
    {
     "data": {
      "text/plain": [
       "torch.Size([64, 2304])"
      ]
     },
     "execution_count": 27,
     "metadata": {},
     "output_type": "execute_result"
    }
   ],
   "source": [
    "out.mean([1, 2]).shape"
   ]
  },
  {
   "cell_type": "code",
   "execution_count": 30,
   "id": "b8bfc972",
   "metadata": {},
   "outputs": [
    {
     "data": {
      "text/plain": [
       "torch.Size([64, 2304])"
      ]
     },
     "execution_count": 30,
     "metadata": {},
     "output_type": "execute_result"
    }
   ],
   "source": [
    "out.view(x.shape[0], -1).shape"
   ]
  },
  {
   "cell_type": "code",
   "execution_count": 38,
   "id": "d00b707a",
   "metadata": {},
   "outputs": [
    {
     "ename": "TypeError",
     "evalue": "unsupported operand type(s) for //: 'list' and 'int'",
     "output_type": "error",
     "traceback": [
      "\u001b[0;31m---------------------------------------------------------------------------\u001b[0m",
      "\u001b[0;31mTypeError\u001b[0m                                 Traceback (most recent call last)",
      "\u001b[0;32m/tmp/ipykernel_288924/1283081090.py\u001b[0m in \u001b[0;36m<module>\u001b[0;34m\u001b[0m\n\u001b[0;32m----> 1\u001b[0;31m \u001b[0;34m[\u001b[0m\u001b[0;36m8\u001b[0m\u001b[0;34m,\u001b[0m\u001b[0;36m16\u001b[0m\u001b[0;34m,\u001b[0m\u001b[0;36m32\u001b[0m\u001b[0;34m]\u001b[0m \u001b[0;34m//\u001b[0m \u001b[0;36m4\u001b[0m\u001b[0;34m\u001b[0m\u001b[0;34m\u001b[0m\u001b[0m\n\u001b[0m",
      "\u001b[0;31mTypeError\u001b[0m: unsupported operand type(s) for //: 'list' and 'int'"
     ]
    }
   ],
   "source": [
    "[8,16,32] // 4"
   ]
  },
  {
   "cell_type": "code",
   "execution_count": 53,
   "id": "d98a8372",
   "metadata": {},
   "outputs": [
    {
     "data": {
      "text/plain": [
       "torch.Size([12, 8, 200, 64])"
      ]
     },
     "execution_count": 53,
     "metadata": {},
     "output_type": "execute_result"
    }
   ],
   "source": [
    "conv1 = nn.Conv2d(1,8,[5,7], stride=[2,2], padding=[2,3])\n",
    "x = torch.rand(12,1,400,128)\n",
    "x = conv1(x)\n",
    "x.shape"
   ]
  },
  {
   "cell_type": "code",
   "execution_count": 56,
   "id": "27dc13d3",
   "metadata": {},
   "outputs": [
    {
     "data": {
      "text/plain": [
       "torch.Size([12, 8, 100, 32])"
      ]
     },
     "execution_count": 56,
     "metadata": {},
     "output_type": "execute_result"
    }
   ],
   "source": [
    "pool1 = nn.MaxPool2d(kernel_size = 3, stride = 2, padding = 1)\n",
    "pool1(x).shape"
   ]
  },
  {
   "cell_type": "code",
   "execution_count": 67,
   "id": "9091ca87",
   "metadata": {},
   "outputs": [],
   "source": [
    "class FuseFastToSlow(nn.Module):\n",
    "    \"\"\"\n",
    "    Fuses the information from the Fast pathway to the Slow pathway. Given the\n",
    "    tensors from Slow pathway and Fast pathway, fuse information from Fast to\n",
    "    Slow, then return the fused tensors from Slow and Fast pathway in order.\n",
    "    \"\"\"\n",
    "\n",
    "    def __init__(self, dim_in, alpha, fusion_conv_channel_ratio, fusion_kernel=7):\n",
    "\n",
    "        super(FuseFastToSlow, self).__init__()\n",
    "        self.conv_f2s = nn.Conv2d(\n",
    "            dim_in,\n",
    "            dim_in * fusion_conv_channel_ratio,\n",
    "            kernel_size=[fusion_kernel, 1],\n",
    "            stride=[alpha, 1],\n",
    "            padding=[fusion_kernel // 2, 0]\n",
    "        )\n",
    "        self.bn = nn.BatchNorm2d(dim_in * fusion_conv_channel_ratio)\n",
    "        self.relu = nn.ReLU()\n",
    "\n",
    "    def forward(self, x_s, x_f):\n",
    "        fuse = self.conv_f2s(x_f)\n",
    "        fuse = self.bn(fuse)\n",
    "        fuse = self.relu(fuse)\n",
    "        x_s_fuse = torch.cat([x_s, fuse], 1)\n",
    "        return x_s_fuse, x_f"
   ]
  },
  {
   "cell_type": "code",
   "execution_count": 68,
   "id": "b31d5e68",
   "metadata": {},
   "outputs": [
    {
     "name": "stdout",
     "output_type": "stream",
     "text": [
      "torch.Size([12, 80, 25, 32])\n",
      "torch.Size([12, 8, 100, 32])\n"
     ]
    }
   ],
   "source": [
    "lateral_conv1 = FuseFastToSlow(dim_in=8, alpha=4, fusion_conv_channel_ratio=2)\n",
    "x_s = torch.rand(12, 64, 25, 32)\n",
    "x_f = torch.rand(12, 8, 100, 32)\n",
    "\n",
    "a , b = lateral_conv1(x_s, x_f)\n",
    "\n",
    "print(a.shape)\n",
    "print(b.shape)"
   ]
  },
  {
   "cell_type": "code",
   "execution_count": 69,
   "id": "69f5d6ff",
   "metadata": {},
   "outputs": [
    {
     "data": {
      "text/plain": [
       "128"
      ]
     },
     "execution_count": 69,
     "metadata": {},
     "output_type": "execute_result"
    }
   ],
   "source": [
    "16*64 // 8"
   ]
  }
 ],
 "metadata": {
  "kernelspec": {
   "display_name": "Python 3 (ipykernel)",
   "language": "python",
   "name": "python3"
  },
  "language_info": {
   "codemirror_mode": {
    "name": "ipython",
    "version": 3
   },
   "file_extension": ".py",
   "mimetype": "text/x-python",
   "name": "python",
   "nbconvert_exporter": "python",
   "pygments_lexer": "ipython3",
   "version": "3.8.12"
  }
 },
 "nbformat": 4,
 "nbformat_minor": 5
}
